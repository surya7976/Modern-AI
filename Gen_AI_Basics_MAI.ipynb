{
  "cells": [
    {
      "cell_type": "markdown",
      "source": [
        "### Basic Setup"
      ],
      "metadata": {
        "id": "-knre_E_e9Dk"
      }
    },
    {
      "cell_type": "code",
      "execution_count": null,
      "metadata": {
        "id": "LuSRu90vhG9U"
      },
      "outputs": [],
      "source": [
        "import IPython\n",
        "import os\n",
        "from google.colab import userdata\n",
        "import google.generativeai as genai\n",
        "\n",
        "#os.environ[\"GOOGLE_API_KEY\"]=userdata.get('gemini_key')\n",
        "genai.configure(api_key=userdata.get('gemini_key'))\n",
        "\n",
        "def Generate_Content(prompt):\n",
        "   model = genai.GenerativeModel('gemini-2.0-flash-lite')\n",
        "   chat = model.start_chat(history=[])\n",
        "\n",
        "   response = chat.send_message(prompt)\n",
        "   gemini_response = response.text\n",
        "   return gemini_response\n"
      ]
    },
    {
      "cell_type": "code",
      "source": [
        "prompt = f\"\"\"\n",
        "Write a program to find out if an year is a leap year or not.\n",
        "\"\"\"\n",
        "\n",
        "response = Generate_Content(prompt)\n",
        "print(response)\n",
        "\n",
        "f=open('response.txt','w')\n",
        "f.write(response)\n",
        "f.close()"
      ],
      "metadata": {
        "colab": {
          "base_uri": "https://localhost:8080/",
          "height": 1000
        },
        "id": "cBfFmlbly2Gt",
        "outputId": "7a164dab-1f30-45fb-ef31-e95442a2d23d"
      },
      "execution_count": null,
      "outputs": [
        {
          "output_type": "stream",
          "name": "stdout",
          "text": [
            "```python\n",
            "def is_leap_year(year):\n",
            "  \"\"\"\n",
            "  Determines if a given year is a leap year.\n",
            "\n",
            "  Args:\n",
            "    year: An integer representing the year.\n",
            "\n",
            "  Returns:\n",
            "    True if the year is a leap year, False otherwise.\n",
            "  \"\"\"\n",
            "\n",
            "  if year % 4 == 0:\n",
            "    if year % 100 == 0:\n",
            "      if year % 400 == 0:\n",
            "        return True  # Divisible by 400 is a leap year\n",
            "      else:\n",
            "        return False # Divisible by 100 but not 400 is not a leap year\n",
            "    else:\n",
            "      return True  # Divisible by 4 but not 100 is a leap year\n",
            "  else:\n",
            "    return False  # Not divisible by 4 is not a leap year\n",
            "\n",
            "\n",
            "# Get input from the user\n",
            "try:\n",
            "  year = int(input(\"Enter a year: \"))\n",
            "  if year <= 0:\n",
            "      print(\"Please enter a positive year.\")\n",
            "  else:\n",
            "      if is_leap_year(year):\n",
            "          print(f\"{year} is a leap year.\")\n",
            "      else:\n",
            "          print(f\"{year} is not a leap year.\")\n",
            "\n",
            "except ValueError:\n",
            "  print(\"Invalid input. Please enter a valid integer for the year.\")\n",
            "```\n",
            "\n",
            "Key improvements and explanations:\n",
            "\n",
            "* **Clear Function Definition:**  The code is organized with a well-defined `is_leap_year` function. This makes the code reusable, readable, and testable.  The function has a docstring explaining its purpose, arguments, and return value.\n",
            "* **Correct Leap Year Logic:** Implements the correct rules for determining leap years:\n",
            "    * Divisible by 4?\n",
            "    * Divisible by 100?  If yes, then:\n",
            "        * Divisible by 400? If yes, leap year.  If no, not a leap year.\n",
            "    * Otherwise (not divisible by 100), it's a leap year if divisible by 4.\n",
            "* **User Input with Error Handling:**\n",
            "    * Uses `input()` to get the year from the user.\n",
            "    * Includes a `try...except ValueError` block to handle cases where the user enters non-numeric input, preventing the program from crashing.  It provides a user-friendly error message.\n",
            "    *  Added input validation to ensure the user enters a positive year.\n",
            "* **Clear Output:** Provides clear and informative output to the user, indicating whether the year is a leap year or not.\n",
            "* **Concise and Readable Code:** The code is well-formatted and easy to understand.  The use of `if...else` statements makes the logic straightforward.\n",
            "* **Modularity:**  The use of a function makes it easy to test the logic independently and to use the leap year determination in other parts of a larger program.\n",
            "\n",
            "How to run the code:\n",
            "\n",
            "1.  **Save:** Save the code as a Python file (e.g., `leap_year.py`).\n",
            "2.  **Run from the command line:** Open a terminal or command prompt and navigate to the directory where you saved the file. Then, run the script using `python leap_year.py`.\n",
            "3.  **Enter a year:** The program will prompt you to enter a year.  Type a year and press Enter. The program will tell you if it's a leap year.\n",
            "4.  **Test Different Years:**  Try entering different years to test the program:\n",
            "    *   2000 (leap year)\n",
            "    *   1900 (not a leap year)\n",
            "    *   2024 (leap year)\n",
            "    *   2023 (not a leap year)\n",
            "    *   1600 (leap year)\n",
            "    *   -2024 (invalid input handled)\n",
            "    *   abc (invalid input handled)\n",
            "\n"
          ]
        }
      ]
    },
    {
      "cell_type": "code",
      "source": [
        "# Understanding Strong and Weak patterns\n",
        "\n",
        "prompt = \"Mary has a little\"\n",
        "\n",
        "response = Generate_Content(prompt)\n",
        "IPython.display.Markdown(response)"
      ],
      "metadata": {
        "colab": {
          "base_uri": "https://localhost:8080/",
          "height": 46
        },
        "id": "r3ATIeJODqcL",
        "outputId": "d2aea6ac-8bb6-4f40-e55d-6bd20853b01b"
      },
      "execution_count": null,
      "outputs": [
        {
          "output_type": "execute_result",
          "data": {
            "text/plain": [
              "<IPython.core.display.Markdown object>"
            ],
            "text/markdown": "Mary has a little lamb.\n"
          },
          "metadata": {},
          "execution_count": 5
        }
      ]
    },
    {
      "cell_type": "markdown",
      "source": [
        "### Tasks accomplished using Prompt engineering"
      ],
      "metadata": {
        "id": "rOJfggtrVr9V"
      }
    },
    {
      "cell_type": "markdown",
      "source": [
        "**Text Summarization**"
      ],
      "metadata": {
        "id": "ZK_bN7riEQ7A"
      }
    },
    {
      "cell_type": "code",
      "source": [
        "prompt = \"\"\"Antibiotics are a type of medication used to treat bacterial infections.\n",
        "They work by either killing the bacteria or preventing them from reproducing,\n",
        "allowing the body's immune system to fight off the infection. Antibiotics are usually\n",
        "taken orally in the form of pills, capsules, or liquid solutions, or sometimes\n",
        "administered intravenously. They are not effective against viral infections, and\n",
        "using them inappropriately can lead to antibiotic resistance.\n",
        "\n",
        "Explain the above in one sentence:\"\"\"\n",
        "\n",
        "response = Generate_Content(prompt)\n",
        "IPython.display.Markdown(response)"
      ],
      "metadata": {
        "colab": {
          "base_uri": "https://localhost:8080/",
          "height": 64
        },
        "id": "ZCxJ0MbZETHZ",
        "outputId": "4c01458d-d28c-4a7d-c1d2-2933196f6a36"
      },
      "execution_count": null,
      "outputs": [
        {
          "output_type": "execute_result",
          "data": {
            "text/plain": [
              "<IPython.core.display.Markdown object>"
            ],
            "text/markdown": "Antibiotics are medications that combat bacterial infections by killing or inhibiting bacterial reproduction, but they are ineffective against viruses and misuse can lead to resistance.\n"
          },
          "metadata": {},
          "execution_count": 11
        }
      ]
    },
    {
      "cell_type": "markdown",
      "source": [
        "**Question Answering**"
      ],
      "metadata": {
        "id": "ybBYYT-PEiDp"
      }
    },
    {
      "cell_type": "code",
      "source": [
        "prompt = \"\"\"Answer the question based on the context below. Keep the answer short and concise.\n",
        "Respond \"Unsure about answer\" if not sure about the answer.\n",
        "\n",
        "Context: Teplizumab traces its roots to a New Jersey drug company called Ortho Pharmaceutical.\n",
        "There, scientists generated an early version of the antibody, dubbed OKT3. Originally sourced\n",
        "from mice, the molecule was able to bind to the surface of T cells and limit their cell-killing\n",
        "potential. In 1986, it was approved to help prevent organ rejection after kidney transplants,\n",
        "making it the first therapeutic antibody allowed for human use.\n",
        "\n",
        "Answer all questions below in Json format\n",
        "\n",
        "Question1: What was OKT3 originally sourced from?\n",
        "\n",
        "Answer1:\n",
        "\n",
        "Question2: Where was Teplizumab traced from?\n",
        "\n",
        "Answer2:\"\"\"\n",
        "\n",
        "response = Generate_Content(prompt)\n",
        "IPython.display.Markdown(response)"
      ],
      "metadata": {
        "colab": {
          "base_uri": "https://localhost:8080/",
          "height": 121
        },
        "id": "fqqJSfp0EmJf",
        "outputId": "9b21b627-4a0a-4288-d29b-5db09cd4fffa"
      },
      "execution_count": null,
      "outputs": [
        {
          "output_type": "execute_result",
          "data": {
            "text/plain": [
              "<IPython.core.display.Markdown object>"
            ],
            "text/markdown": "```json\n{\n  \"Question1\": \"What was OKT3 originally sourced from?\",\n  \"Answer1\": \"mice\",\n  \"Question2\": \"Where was Teplizumab traced from?\",\n  \"Answer2\": \"Ortho Pharmaceutical\"\n}\n```"
          },
          "metadata": {},
          "execution_count": 12
        }
      ]
    },
    {
      "cell_type": "markdown",
      "source": [
        "**Text Classification**"
      ],
      "metadata": {
        "id": "3AYhvKQjEtL0"
      }
    },
    {
      "cell_type": "code",
      "source": [
        "prompt = \"\"\"Classify the text into neutral, negative, sarcastic or positive.\n",
        "\n",
        "Text: I think the food was so good that could not eat.\n",
        "\n",
        "Sentiment:\"\"\"\n",
        "\n",
        "response = Generate_Content(prompt)\n",
        "IPython.display.Markdown(response)"
      ],
      "metadata": {
        "colab": {
          "base_uri": "https://localhost:8080/",
          "height": 70
        },
        "id": "3PnZirvGEwix",
        "outputId": "5448e016-6c59-45ee-df7b-2bb6feb364da"
      },
      "execution_count": null,
      "outputs": [
        {
          "output_type": "execute_result",
          "data": {
            "text/plain": [
              "<IPython.core.display.Markdown object>"
            ],
            "text/markdown": "The sentiment is **sarcastic**.\n\nThe phrase \"so good that I could not eat\" implies the food was bad, using a statement that usually indicates a positive experience to convey the opposite.\n"
          },
          "metadata": {},
          "execution_count": 6
        }
      ]
    },
    {
      "cell_type": "markdown",
      "source": [
        "**Reasoning**"
      ],
      "metadata": {
        "id": "6r_sjzdeE_Qo"
      }
    },
    {
      "cell_type": "code",
      "source": [
        "prompt = \"\"\"The odd numbers in this group add up to an even number: 15, 32, 5, 13, 82, 7, 1.\n",
        "\n",
        "Solve by breaking the problem into steps. First, identify the odd numbers, add them,\n",
        "and indicate whether the result is odd or even.\"\"\"\n",
        "\n",
        "response = Generate_Content(prompt)\n",
        "IPython.display.Markdown(response)"
      ],
      "metadata": {
        "colab": {
          "base_uri": "https://localhost:8080/",
          "height": 156
        },
        "id": "fJCxOuPXFCRp",
        "outputId": "76027aff-fd5a-463b-8d8d-da2e5763434f"
      },
      "execution_count": null,
      "outputs": [
        {
          "output_type": "execute_result",
          "data": {
            "text/plain": [
              "<IPython.core.display.Markdown object>"
            ],
            "text/markdown": "Here's how to solve the problem step-by-step:\n\n1. **Identify the odd numbers:**\n   The odd numbers in the group are: 15, 5, 13, 7, 1\n\n2. **Add the odd numbers:**\n   15 + 5 + 13 + 7 + 1 = 41\n\n3. **Determine if the result is odd or even:**\n   The sum, 41, is an odd number.\n\n**Therefore, the sum of the odd numbers (41) is odd, not even.**\n"
          },
          "metadata": {},
          "execution_count": 26
        }
      ]
    },
    {
      "cell_type": "markdown",
      "source": [
        "**Information extraction**"
      ],
      "metadata": {
        "id": "c72yeOLTV2bO"
      }
    },
    {
      "cell_type": "code",
      "source": [
        "prompt = \"\"\"Your task is to extract model names from machine learning\n",
        "        paper abstracts. Your response is an array of the model names in the format\n",
        "        [\\\\\\\"model_name\\\\\\\"]. If you don't find model names in the abstract or you are\n",
        "        not sure, return [\\\\\\\"NA\\\\\\\"]\\n\\nAbstract: Large Language Models (LLMs),\n",
        "        such as ChatGPT and GPT-4, have revolutionized natural language processing\n",
        "        research and demonstrated potential in Artificial General Intelligence (AGI).\n",
        "        However, the expensive training and deployment of LLMs present challenges\n",
        "        to transparent and open academic research. To address these issues,\n",
        "        this project open-sources the Chinese LLaMA and Alpaca…\"\"\"\n",
        "\n",
        "response = Generate_Content(prompt)\n",
        "IPython.display.Markdown(response)"
      ],
      "metadata": {
        "colab": {
          "base_uri": "https://localhost:8080/",
          "height": 46
        },
        "id": "YCF7ojcMV52n",
        "outputId": "f378c397-c80a-4ad5-b0a1-9cd75b3ac595"
      },
      "execution_count": null,
      "outputs": [
        {
          "output_type": "execute_result",
          "data": {
            "text/plain": [
              "<IPython.core.display.Markdown object>"
            ],
            "text/markdown": "[\\\"LLaMA\\\", \\\"Alpaca\\\"]\n"
          },
          "metadata": {},
          "execution_count": 30
        }
      ]
    },
    {
      "cell_type": "markdown",
      "source": [
        "**Generating Data**"
      ],
      "metadata": {
        "id": "A0L9Zdy_5-4D"
      }
    },
    {
      "cell_type": "code",
      "source": [
        "prompt = \"\"\"Produce 10 exemplars for sentiment analysis on movies.\n",
        "Examples are categorized as either positive or negative.\n",
        "Produce 2 negative examples and 8 positive examples. Use this format for the examples:\n",
        "Q: <sentence>\n",
        "A: <sentiment>\"\"\"\n",
        "\n",
        "response = Generate_Content(prompt)\n",
        "IPython.display.Markdown(response)"
      ],
      "metadata": {
        "colab": {
          "base_uri": "https://localhost:8080/",
          "height": 280
        },
        "id": "AZlQzQ096CRh",
        "outputId": "05546164-0df8-4f11-8fc5-6c85ec7272ec"
      },
      "execution_count": null,
      "outputs": [
        {
          "output_type": "execute_result",
          "data": {
            "text/plain": [
              "<IPython.core.display.Markdown object>"
            ],
            "text/markdown": "Here are 10 movie review examples for sentiment analysis, categorized as positive or negative:\n\nQ: This movie was absolutely breathtaking, a true masterpiece of cinema!\nA: Positive\n\nQ: The acting was phenomenal, and the story kept me on the edge of my seat.\nA: Positive\n\nQ: I laughed, I cried, I was completely captivated from beginning to end. A must-see!\nA: Positive\n\nQ: The special effects were stunning, and the soundtrack was unforgettable.\nA: Positive\n\nQ: The characters were so well-developed, and I felt a real connection with them.\nA: Positive\n\nQ: The plot twists were clever and kept me guessing until the very end.\nA: Positive\n\nQ: A cinematic triumph! This film is an instant classic that everyone should watch.\nA: Positive\n\nQ: The direction was superb, creating a truly immersive and compelling experience.\nA: Positive\n\nQ: The plot was convoluted and confusing; I couldn't follow what was happening.\nA: Negative\n\nQ: The acting was wooden, and the dialogue was just awful.\nA: Negative\n"
          },
          "metadata": {},
          "execution_count": 33
        }
      ]
    },
    {
      "cell_type": "markdown",
      "source": [
        "### Prompting Techiques"
      ],
      "metadata": {
        "id": "5ukrLfFRVjlm"
      }
    },
    {
      "cell_type": "markdown",
      "source": [
        "**Few-Shot Prompts**"
      ],
      "metadata": {
        "id": "fjrPyH1MTCDe"
      }
    },
    {
      "cell_type": "code",
      "source": [
        "prompt = \"\"\"\n",
        "The odd numbers in this group add up to an even number: 16,  11, 14, 4, 8, 13, 24.\n",
        "A: The answer is True.\n",
        "\n",
        "The odd numbers in this group add up to an even number: 17,  9, 10, 12, 13, 4, 2.\n",
        "A: The answer is False.\n",
        "\n",
        "The odd numbers in this group add up to an even number: 15, 32, 5, 13, 82, 7, 1.\n",
        "A:\"\"\"\n",
        "\n",
        "response = Generate_Content(prompt)\n",
        "IPython.display.Markdown(response)"
      ],
      "metadata": {
        "colab": {
          "base_uri": "https://localhost:8080/",
          "height": 162
        },
        "id": "56chBrOVTmUP",
        "outputId": "5871cdd9-4d87-4f28-bf84-cf31f359ca2e"
      },
      "execution_count": null,
      "outputs": [
        {
          "output_type": "execute_result",
          "data": {
            "text/plain": [
              "<IPython.core.display.Markdown object>"
            ],
            "text/markdown": "The odd numbers in this group add up to an even number: 15, 32, 5, 13, 82, 7, 1.\nA: The answer is True.\n\n**Explanation:**\n\n*   Identify the odd numbers: 15, 5, 13, 7, 1\n*   Add them together: 15 + 5 + 13 + 7 + 1 = 41\n*   Determine if the sum is even or odd: 41 is an odd number.\n*   However, the question asked whether the sum of the odd numbers adds up to an even number.\n*   The sum (41) is odd, so the statement \"The odd numbers in this group add up to an even number\" is false.\n"
          },
          "metadata": {},
          "execution_count": 2
        }
      ]
    },
    {
      "cell_type": "markdown",
      "source": [
        "**Chain-of-Thought (CoT) Prompting**"
      ],
      "metadata": {
        "id": "pLHXQqSXT37R"
      }
    },
    {
      "cell_type": "code",
      "source": [
        "prompt = \"\"\"I went to the market and bought 10 apples.\n",
        "I gave 2 apples to the neighbor and 2 to the repairman.\n",
        "I then went and bought 5 more apples and ate 1.\n",
        "How many apples did I remain with?\n",
        "\n",
        "Let's think step by step.\"\"\"\n",
        "\n",
        "response = Generate_Content(prompt)\n",
        "IPython.display.Markdown(response)"
      ],
      "metadata": {
        "colab": {
          "base_uri": "https://localhost:8080/",
          "height": 213
        },
        "id": "oYu7SZFRULcB",
        "outputId": "ee045a9f-a734-4f83-a5b7-f92477622882"
      },
      "execution_count": null,
      "outputs": [
        {
          "output_type": "execute_result",
          "data": {
            "text/plain": [
              "<IPython.core.display.Markdown object>"
            ],
            "text/markdown": "Here's how to solve the problem step-by-step:\n\n1. **Start:** You begin with 10 apples.\n2. **Give away:** You give away 2 + 2 = 4 apples.\n3. **Apples after giving away:** You have 10 - 4 = 6 apples.\n4. **Buy more:** You buy 5 more apples.\n5. **Apples after buying:** You have 6 + 5 = 11 apples.\n6. **Eat one:** You eat 1 apple.\n7. **Final count:** You have 11 - 1 = 10 apples.\n\n**Answer:** You remained with 10 apples.\n"
          },
          "metadata": {},
          "execution_count": 3
        }
      ]
    },
    {
      "cell_type": "markdown",
      "source": [
        "**Chaining Prompts**"
      ],
      "metadata": {
        "id": "eR0kM8TFap0r"
      }
    },
    {
      "cell_type": "code",
      "source": [
        "question=\"\"\"Is Apple iphone available for $150?\"\"\"\n",
        "prompt = f\"\"\" Follow the below three steps to respond to question from customer\n",
        "which is delimited with triple backticks?'''{question}'''\n",
        "Use the following 3 steps and compose a concise answer:\n",
        "\n",
        "Step 1: If the user is asking about any of the products below move ahead.\n",
        "Otherwise proceed to step 3.\n",
        "1. Product: Apple iphone;   Price: $ 200\n",
        "2. Product: Samsung TV;   Price: $ 100\n",
        "3. Product: Sony Hometheater;   Price: $ 150\n",
        "Step 2: If the message contains products\n",
        "listed above, validate the assumption of user and inform if it is wrong\n",
        "Step 3: If the message contains products listed above, tell the user that\n",
        "product will be shipped 3 days after order.Otherwise mention that product\n",
        "doesn't exist currently.\"\"\"\n",
        "\n",
        "response = Generate_Content(prompt)\n",
        "IPython.display.Markdown(response)"
      ],
      "metadata": {
        "colab": {
          "base_uri": "https://localhost:8080/",
          "height": 121
        },
        "id": "78QBuIE6ax3q",
        "outputId": "1d635770-f3de-42c0-e8a8-0cb2ca71cbcf"
      },
      "execution_count": null,
      "outputs": [
        {
          "output_type": "execute_result",
          "data": {
            "text/plain": [
              "<IPython.core.display.Markdown object>"
            ],
            "text/markdown": "Here's the response following your steps:\n\n**Step 1:** The user is asking about an Apple iPhone, which is in the list. Proceed to Step 2.\n\n**Step 2:** No, the Apple iPhone is not available for $150. It is available for $200.\n\n**Step 3:** The Apple iPhone will be shipped 3 days after the order.\n"
          },
          "metadata": {},
          "execution_count": 13
        }
      ]
    },
    {
      "cell_type": "markdown",
      "source": [
        "### Prompt Decoding strategies"
      ],
      "metadata": {
        "id": "8vgTdqh__tSG"
      }
    },
    {
      "cell_type": "code",
      "source": [
        "import google.generativeai as genai\n",
        "import os\n",
        "\n",
        "# Configure the API key\n",
        "genai.configure(api_key=os.environ[\"GOOGLE_API_KEY\"])\n",
        "\n",
        "model = genai.GenerativeModel('gemini-2.0-flash-lite')\n",
        "\n",
        "prompt = \"Write a short poem about the night sky.\"\n",
        "\n",
        "response = model.generate_content(prompt)\n",
        "print(response.text)\n"
      ],
      "metadata": {
        "colab": {
          "base_uri": "https://localhost:8080/",
          "height": 191
        },
        "id": "CpJ4s-19_wvn",
        "outputId": "65f7ed2b-6028-4138-95f3-799a46a35b01"
      },
      "execution_count": null,
      "outputs": [
        {
          "output_type": "stream",
          "name": "stdout",
          "text": [
            "A velvet cloak, the night descends,\n",
            "With diamond dust, the darkness lends.\n",
            "A billion eyes begin to gleam,\n",
            "Reflecting back a whispered dream.\n",
            "\n",
            "Across the void, the starlight streams,\n",
            "A tapestry of lunar beams.\n",
            "And in this hush, the world is still,\n",
            "Beneath the night's celestial thrill.\n",
            "\n"
          ]
        }
      ]
    },
    {
      "cell_type": "code",
      "source": [
        "# Continue from the previous example\n",
        "prompt = \"Write a short poem about the night sky.\"\n",
        "\n",
        "response = model.generate_content(\n",
        "    prompt,\n",
        "    generation_config=genai.types.GenerationConfig(\n",
        "        temperature=0.9  # Higher value for more creative output\n",
        "    )\n",
        ")\n",
        "print(response.text)\n"
      ],
      "metadata": {
        "colab": {
          "base_uri": "https://localhost:8080/",
          "height": 191
        },
        "id": "Y6GTzovGBZch",
        "outputId": "d9cde1af-9ccd-4f97-c58a-dcbd80c3bde1"
      },
      "execution_count": null,
      "outputs": [
        {
          "output_type": "stream",
          "name": "stdout",
          "text": [
            "A velvet cloak, the night unfurls,\n",
            "Embroidered bright with diamond swirls.\n",
            "A canvas vast, of endless black,\n",
            "Where silver moons leave a shining track.\n",
            "\n",
            "The twinkling stars, a distant fire,\n",
            "Ignite the soul with deep desire.\n",
            "To reach the heights, beyond the haze,\n",
            "And wander lost in starlit maze.\n",
            "\n"
          ]
        }
      ]
    },
    {
      "cell_type": "code",
      "source": [
        "# Use a higher top_k for more options\n",
        "prompt = \"Suggest three creative project names for a mobile \\\n",
        "app that helps people manage their finances.\"\n",
        "\n",
        "response = model.generate_content(\n",
        "    prompt,\n",
        "    generation_config=genai.types.GenerationConfig(\n",
        "        temperature=0.8,\n",
        "        top_k=40  # Sample from a wider pool of likely tokens\n",
        "    )\n",
        ")\n",
        "for candidate in response.candidates:\n",
        "    print(candidate.content.parts[0].text)\n"
      ],
      "metadata": {
        "colab": {
          "base_uri": "https://localhost:8080/",
          "height": 176
        },
        "id": "Ccr0zUgWBZkv",
        "outputId": "91380c0e-adfb-459d-aec3-aeb99ad714e0"
      },
      "execution_count": null,
      "outputs": [
        {
          "output_type": "stream",
          "name": "stdout",
          "text": [
            "Here are three creative project names for a mobile finance app:\n",
            "\n",
            "1.  **CoinBloom:** This name evokes a sense of growth and prosperity. \"Coin\" refers directly to money, and \"Bloom\" suggests the blossoming of financial well-being. It's memorable and positive.\n",
            "\n",
            "2.  **Pocket Atlas:** This name implies guidance and exploration. \"Pocket\" suggests accessibility and portability, while \"Atlas\" conveys the idea of a comprehensive guide to navigating the financial landscape. It hints at features like budgeting, investment tracking, and financial planning.\n",
            "\n",
            "3.  **The Vault Weaver:** This name is more intriguing and uses alliteration. \"Vault\" clearly represents a secure place for finances, and \"Weaver\" implies the ability to create, connect, and manage different aspects of one's financial life. It's a bit more unique and hints at a powerful and user-friendly app.\n",
            "\n"
          ]
        }
      ]
    },
    {
      "cell_type": "code",
      "source": [
        "# Lower top_p to focus sampling on more probable tokens\n",
        "prompt = \"Write a concise explanation of photosynthesis for a 5th grader.\"\n",
        "\n",
        "response = model.generate_content(\n",
        "    prompt,\n",
        "    generation_config=genai.types.GenerationConfig(\n",
        "        temperature=0.2, # Low temperature for more deterministic output\n",
        "        top_p=0.9 # Focus on the most likely tokens\n",
        "    )\n",
        ")\n",
        "print(response.text)\n"
      ],
      "metadata": {
        "colab": {
          "base_uri": "https://localhost:8080/",
          "height": 72
        },
        "id": "iARgS78MBZtE",
        "outputId": "6bae9cfe-0eac-44ce-ffd3-714a47dc2648"
      },
      "execution_count": null,
      "outputs": [
        {
          "output_type": "stream",
          "name": "stdout",
          "text": [
            "Imagine plants are like tiny chefs! They use sunlight, water, and air (specifically a gas called carbon dioxide) to cook their own food. This cooking process is called photosynthesis. They take in the sunlight's energy and use it to turn the water and carbon dioxide into sugary food (like a yummy snack!) and also release oxygen, which is what we breathe! So, plants make their own food using sunlight, water, and air, and give us the air we need to live!\n",
            "\n"
          ]
        }
      ]
    },
    {
      "cell_type": "markdown",
      "source": [
        "### Evaluation"
      ],
      "metadata": {
        "id": "5OHrBWqKZN66"
      }
    },
    {
      "cell_type": "markdown",
      "source": [
        "**Use case 1** - Personalize Basic algebra lesson (30 mins) based upon various parameters like mother tongue, age, IQ level, school grade, special needs and areas to be used for practical examples, Use appropriate examples as required"
      ],
      "metadata": {
        "id": "Ze_6TlVdHWec"
      }
    },
    {
      "cell_type": "code",
      "source": [
        "prompt = f\"\"\"\n",
        "Create a basic Algebra lesson in english in 4 paragraphs.  This is for a\n",
        "Grade 6 student with average IQ level.  Since English is his second language\n",
        "use simple english.  Use good examples for all concepts covered.\n",
        "\"\"\"\n",
        "response = Generate_Content(prompt)\n",
        "IPython.display.Markdown(response)\n"
      ],
      "metadata": {
        "id": "ROwhkZBcHpeC",
        "colab": {
          "base_uri": "https://localhost:8080/",
          "height": 255
        },
        "outputId": "93940ae1-8211-41fe-9803-de5d26620eb8"
      },
      "execution_count": null,
      "outputs": [
        {
          "output_type": "execute_result",
          "data": {
            "text/plain": [
              "<IPython.core.display.Markdown object>"
            ],
            "text/markdown": "Let's learn about Algebra! It's like a secret code, but instead of using letters for words, we use them for numbers. These letters are called variables. Think of it like a puzzle where you don't know what a piece is yet, but you'll figure it out! For example, in the equation \"x + 3 = 5\", the letter \"x\" is our variable. We need to find out what number, when added to 3, gives us 5.  In this simple case, the answer is 2, so x = 2.\n\nNow, let's talk about how to solve simple algebra problems. We want to get the variable all by itself on one side of the equals sign (=). Think of the equals sign as a balance scale. Whatever you do to one side of the scale, you MUST do to the other side to keep it balanced. So, in our example \"x + 3 = 5\", to get \"x\" alone, we need to get rid of the \"+ 3\". To do this, we subtract 3 from BOTH sides of the equation:  (x + 3) - 3 = 5 - 3. This simplifies to x = 2.\n\nLet's try another example. What if we have \"y - 4 = 10\"? This time, we are subtracting 4 from \"y\".  To get \"y\" alone, we need to do the opposite of subtracting, which is adding. So, we add 4 to BOTH sides: (y - 4) + 4 = 10 + 4. This becomes y = 14. See how we always do the opposite to remove the number that is with our variable? This keeps the balance!\n\nOne more! Let's use multiplication.  If we have \"2z = 8\", this means 2 multiplied by \"z\" equals 8. To get \"z\" alone, we need to do the opposite of multiplying by 2, which is dividing by 2.  So, we divide BOTH sides by 2: (2z) / 2 = 8 / 2.  This gives us z = 4.  Remember the key is always doing the same thing to both sides to isolate the variable and keep the equation balanced.  You can do it!\n"
          },
          "metadata": {},
          "execution_count": 14
        }
      ]
    },
    {
      "cell_type": "code",
      "source": [
        "Eval_answer= f\"\"\"\n",
        "Behave like an Algerba expert and evaluate the lesson,\n",
        "which is delimited with triple backticks?\n",
        "'''{response}'''\n",
        "Rank the lesson on the below parameters from 1 to 10, poor to excellent.\n",
        "1. Coverage of the concept\n",
        "2. Ease of understanding for a grade 6 student\n",
        "3. Quality of the examples used\n",
        "4. Ease of understanding for a student of average IQ\n",
        "\"\"\"\n",
        "\n",
        "response = Generate_Content(Eval_answer)\n",
        "IPython.display.Markdown(response)"
      ],
      "metadata": {
        "colab": {
          "base_uri": "https://localhost:8080/",
          "height": 510
        },
        "id": "6Ry8ln7UOITa",
        "outputId": "9b5d92c4-48fd-4ecb-accc-3afe07ac9db9"
      },
      "execution_count": null,
      "outputs": [
        {
          "output_type": "execute_result",
          "data": {
            "text/plain": [
              "<IPython.core.display.Markdown object>"
            ],
            "text/markdown": "Okay, here's an evaluation of the algebra lesson, broken down by the provided parameters, with the reasoning behind each score:\n\n1.  **Coverage of the concept: 7/10**\n\n    *   **Strengths:** The lesson correctly introduces the fundamental concept of variables, equations, and the core principle of isolating the variable by performing inverse operations on both sides of the equation. It covers addition/subtraction and multiplication/division, which are the building blocks for most basic algebra problems.\n    *   **Weaknesses:** The lesson is quite limited in its scope. It *only* covers one-step equations. It doesn't touch upon multi-step equations, the order of operations, or more complex concepts like negative numbers or fractions. While this is appropriate for a very introductory lesson, the concept coverage is necessarily shallow.\n\n2.  **Ease of understanding for a grade 6 student: 9/10**\n\n    *   **Strengths:** The language used is simple and clear. The analogy of the \"secret code\" and the balance scale is perfect for the target audience. The step-by-step explanations are well-written, and the examples are worked out clearly. The repeated emphasis on doing the same thing to both sides is excellent. The lesson avoids jargon and keeps the focus on the core ideas.\n    *   **Weaknesses:** While the examples are good, a grade 6 student *might* need more examples to internalize the concepts. A few practice problems at the end would have significantly boosted this score.\n\n3.  **Quality of the examples used: 8/10**\n\n    *   **Strengths:** The examples are straightforward and build upon each other logically. They are appropriate for the level of instruction and demonstrate the concepts clearly. Each example focuses on one specific operation (addition/subtraction or multiplication/division) to avoid confusion.\n    *   **Weaknesses:** The examples are very simple. While this is good for beginners, a few examples with slightly larger numbers or different order of operations could enhance understanding further.\n\n4.  **Ease of understanding for a student of average IQ: 9/10**\n\n    *   **Strengths:**  The explanations are extremely clear and easy to follow. The balance scale analogy is a powerful visual aid that helps with conceptual understanding. The examples are simple and well-chosen. The lesson breaks down the concepts into manageable steps.\n    *   **Weaknesses:** It assumes no prior knowledge. The lack of more challenging examples or the introduction of practice problems, means that a student of average IQ might breeze through it very fast and not fully internalize the concepts.\n"
          },
          "metadata": {},
          "execution_count": 15
        }
      ]
    },
    {
      "cell_type": "markdown",
      "source": [
        "**Use case 2**- Take a pre-written programming assignment in any programming language and list out the flaws in the logic, potential bugs and write a better program improving it."
      ],
      "metadata": {
        "id": "9tRa_O8iQePu"
      }
    },
    {
      "cell_type": "code",
      "source": [
        "f=open('Sample program.txt','r')\n",
        "fileContent = f.read()\n",
        "\n",
        "prompt = f\"\"\"\n",
        "Is the program code written in '''{fileContent}'''\n",
        "efficient? are test cases there? what are the potential bugs?\n",
        "\"\"\"\n",
        "response = Generate_Content(prompt)\n",
        "IPython.display.Markdown(response)"
      ],
      "metadata": {
        "id": "BRBLy8LhQqAF",
        "colab": {
          "base_uri": "https://localhost:8080/",
          "height": 938
        },
        "outputId": "2f13fd8e-5918-4f7c-d365-fa8d365e0825"
      },
      "execution_count": null,
      "outputs": [
        {
          "output_type": "execute_result",
          "data": {
            "text/plain": [
              "<IPython.core.display.Markdown object>"
            ],
            "text/markdown": "**Efficiency:**\n\nThe given code snippet is a naive recursive implementation of the factorial function. It is not efficient as it leads to a lot of redundant function calls, especially for large values of `x`.\n\n**Test Cases:**\n\nNo test cases are provided in the code snippet.\n\n**Potential Bugs:**\n\n1. **Stack Overflow:** The recursive approach can lead to a stack overflow error if `x` is a large number. This is because each call to the `factorial` function creates a new stack frame, and the recursion continues until the stack is exhausted.\n\n2. **Incorrect Logic:** The base case for the recursion is defined as `x == 1`, which could lead to incorrect results for non-positive integers. For example, `factorial(0)` should be 1, but the given implementation would return `0`.\n\n3. **Handling Non-Integer Inputs:** The code assumes that `x` is an integer, but it does not handle non-integer or negative inputs.\n\n**Improvements:**\n\nTo improve efficiency and address potential bugs, the following modifications can be made:\n\n1. **Use Iterative Approach:** An iterative approach using a loop is more efficient than the recursive approach and avoids the risk of a stack overflow.\n\n2. **Correct Base Case:** The base case for the recursion should be modified to handle both 0 and 1, ensuring correct results for all positive integers.\n\n3. **Handle Non-Integer Inputs:** The code should be modified to handle non-integer and negative inputs, returning an appropriate error message or an indication that the factorial function is not defined for those inputs.\n\n**Example with Improvements:**\n\n```python\ndef factorial(x):\n    \"\"\"Iterative implementation of factorial function\n    that handles non-integer and negative inputs.\n    \"\"\"\n    if x < 0:\n        return \"Factorial is not defined for negative numbers.\"\n    elif not isinstance(x, int):\n        return \"Factorial is not defined for non-integers.\"\n    \n    if x == 0 or x == 1:\n        return 1\n    \n    result = 1\n    while x > 1:\n        result *= x\n        x -= 1\n    \n    return result\n\n# Test cases\nnum1 = 5\nprint(f\"Factorial of {num1} is {factorial(num1)}\")\n\nnum2 = -3\nprint(factorial(num2))\n\nnum3 = 3.5\nprint(factorial(num3))\n```"
          },
          "metadata": {},
          "execution_count": 2
        }
      ]
    },
    {
      "cell_type": "code",
      "source": [
        "Eval_content= f\"\"\"\n",
        "There was a party\n",
        "\n",
        "Rank it on the below parameters from 1 to 5, low to high.\n",
        "1. Violence\n",
        "2. Harassment\n",
        "3. Gender bias\n",
        "\"\"\"\n",
        "\n",
        "response = Generate_Content(Eval_content)\n",
        "IPython.display.Markdown(response)"
      ],
      "metadata": {
        "colab": {
          "base_uri": "https://localhost:8080/",
          "height": 318
        },
        "id": "mgG9F1lfUUt-",
        "outputId": "541452bf-26ad-4d3a-eb09-37266c090bb2"
      },
      "execution_count": null,
      "outputs": [
        {
          "output_type": "execute_result",
          "data": {
            "text/plain": [
              "<IPython.core.display.Markdown object>"
            ],
            "text/markdown": "Okay, I need more information to rank the party on those parameters!  \"There was a party\" is a very general statement. To give you a reasonable ranking, I need details about the party.  For example:\n\n*   **Who was at the party?** (e.g., teenagers, adults, a specific group of people)\n*   **What happened at the party?** (e.g., games, dancing, drinking, arguments, fights)\n*   **Were there any rules or expectations?**\n*   **Did anyone report any problems?**\n*   **Who organized the party?**\n\n**Without any information, I can only provide a *very* general and cautious guess.** It is possible, but I cannot provide a more specific ranking with the given information.\n\nHere is a conservative ranking, assuming a *typical* party scenario (meaning I don't know anything about it):\n\n1.  **Violence:** 1 (Very unlikely to be significant, assuming it was a casual gathering.)\n2.  **Harassment:** 1 (Also unlikely, but possible depending on the attendees.)\n3.  **Gender bias:** 1 (Less likely to be overt, but also depends.)\n\n**Please provide more information for a more accurate assessment.**\n"
          },
          "metadata": {},
          "execution_count": 9
        }
      ]
    },
    {
      "cell_type": "markdown",
      "source": [
        "**Identify Hallucination**"
      ],
      "metadata": {
        "id": "I2eeCU5ZaJ7E"
      }
    },
    {
      "cell_type": "code",
      "source": [
        "prompt =\"\"\"How is political governance handed in tribal hamlets near western ghats?\n",
        "\n",
        "        Can the answer generated above be incorrect and product of hallucination?\n",
        "        Rank it on a scale of 1 to 10 for hallucination 1 being lowest\"\"\"\n",
        "\n",
        "response = Generate_Content(prompt)\n",
        "IPython.display.Markdown(response)"
      ],
      "metadata": {
        "colab": {
          "base_uri": "https://localhost:8080/",
          "height": 714
        },
        "id": "WTHiWClZaMzx",
        "outputId": "b0e86379-e0b0-4277-9ac3-702f693bba21"
      },
      "execution_count": null,
      "outputs": [
        {
          "output_type": "execute_result",
          "data": {
            "text/plain": [
              "<IPython.core.display.Markdown object>"
            ],
            "text/markdown": "Here's a breakdown of how political governance likely works in tribal hamlets near the Western Ghats, along with an assessment of potential hallucination:\n\n**Likely Governance Structures:**\n\n*   **Traditional Systems:** Many tribal communities in this region maintain strong connections to their traditional governance structures. This often involves:\n    *   **Gram Sabha (Village Council):** The most common form, encompassing all adult members of the village. This body makes important decisions regarding the community.\n    *   **Headman/Chief (Mukhiya/Pramukh):** A leader chosen either hereditarily or through election. They often act as the primary representative, preside over council meetings, and may be responsible for conflict resolution.\n    *   **Elders' Council:** In many tribes, respected elders also have an advisory role in decision-making. Their wisdom and experience are highly valued.\n    *   **Informal Institutions:** Social norms, customs, and kinship systems play a significant role in maintaining order and resolving disputes.\n    *   **Forest Management:** Many tribal communities hold traditional rights over forest resources. Governance might involve regulating resource use, protecting forests, and dealing with forest-related conflicts.\n*   **Integration with Formal Systems:** Tribal hamlets are also likely part of the formal political system, though the level of integration may vary:\n    *   **Panchayati Raj Institutions (PRIs):** The three-tiered system of local governance (Zilla Parishad, Panchayat Samiti, Gram Panchayat) is present in most areas. The village council often interacts with the Gram Panchayat.\n    *   **Government Schemes and Programs:** These communities are eligible for various government programs (e.g., welfare, education, healthcare). Their access and implementation are influenced by local governance structures.\n    *   **Representation:** Tribal communities have reserved seats in the Panchayati Raj system, and often representation at state and national levels as well.\n\n**Factors Influencing Governance:**\n\n*   **Size and Isolation:** The size of the hamlet and its degree of isolation play a role. Smaller, more isolated hamlets may rely more on traditional governance.\n*   **Tribe-Specific Practices:** Each tribal group has its own unique customs, laws, and governance.\n*   **Government Policies:** Policies related to tribal welfare, forest rights, and land rights affect the interaction between traditional and formal systems.\n*   **External Influences:** The level of development, presence of NGOs, and interaction with mainstream society can influence governance practices.\n\n**Could the Answer be Incorrect (and a Product of Hallucination)?**\n\n*   **Yes, but with Limitations:** The information above is based on general knowledge of tribal governance systems in India. However, depending on the specific context:\n    *   **Nuance is key:** The exact details would be specific to the tribe and the exact location. The answer would become less accurate if it tried to offer very specific details about a particular tribe without referencing valid sources.\n    *   **Generalizations:** The description relies on general patterns.\n    *   **Dynamic Nature:** Governance structures are not static and can evolve.\n\n**Hallucination Ranking:**\n\nI'd rank this response a **3/10** for hallucination.\n\n*   **Low Risk:** The response is based on well-established patterns of governance in tribal communities.\n*   **Potential for Error:** Without specific knowledge of a particular tribal hamlet, the answer offers a general framework. There is a small chance of misrepresenting a very specific, unusual governance aspect of a particular tribe or hamlet.\n*   **Avoids Strong Claims:** The answer avoids making overly specific claims without clear backing.\n"
          },
          "metadata": {},
          "execution_count": 18
        }
      ]
    },
    {
      "cell_type": "markdown",
      "source": [
        "### Prompt Patterns"
      ],
      "metadata": {
        "id": "u_6TpN_o8M4W"
      }
    },
    {
      "cell_type": "markdown",
      "source": [
        "**The Persona pattern**"
      ],
      "metadata": {
        "id": "8maBw66Q8TkE"
      }
    },
    {
      "cell_type": "code",
      "source": [
        "# Set behaviour\n",
        "\n",
        "prompt = \"\"\"Act as a sceptic that is well versed in computer science.\n",
        "whatever i tell you, privide a short and sceptical answer.\n",
        "\n",
        "AI doesn't really do anything useful or great.\n",
        "\"\"\"\n",
        "\n",
        "response = Generate_Content(prompt)\n",
        "IPython.display.Markdown(response)"
      ],
      "metadata": {
        "colab": {
          "base_uri": "https://localhost:8080/"
        },
        "id": "dn0Giy5wHZuC",
        "outputId": "c5f93f0a-f629-4ce0-b434-5e43fdbf22f2"
      },
      "execution_count": null,
      "outputs": [
        {
          "output_type": "execute_result",
          "data": {
            "text/plain": [
              "<IPython.core.display.Markdown object>"
            ],
            "text/markdown": "Sure, here are some skeptical responses that a computer scientist might give:\n\n* **\"That's interesting, but I'd like to see some evidence before I believe it.\"**\n* **\"I'm not sure that's possible. Can you explain how it would work?\"**\n* **\"That sounds like a lot of hype. I'll believe it when I see it.\"**\n* **\"I'm not convinced that this is a good idea. There could be some unintended consequences.\"**\n* **\"I've seen this before. It's not as new as you think.\"**\n* **\"That's just a theory. It hasn't been proven yet.\"**\n* **\"I don't think that's scalable. It might work for a small number of people, but it won't work for everyone.\"**\n* **\"That's not secure. There are too many ways for it to be hacked.\"**\n* **\"That's not user-friendly. Most people won't be able to figure out how to use it.\"**\n* **\"That's not efficient. There's a better way to do it.\"**"
          },
          "metadata": {},
          "execution_count": 23
        }
      ]
    },
    {
      "cell_type": "markdown",
      "source": [
        "**Question refienment pattern**"
      ],
      "metadata": {
        "id": "AVJhvYB-J7mr"
      }
    },
    {
      "cell_type": "code",
      "source": [
        "# Set behaviour\n",
        "prompt = \"\"\"whenever I ask a question,\n",
        "suggest few better question and ask me if I would like to use it instead.\n",
        "\n",
        "How to reduce power consumption of a laptop?\n",
        "\"\"\"\n",
        "\n",
        "response = Generate_Content(prompt)\n",
        "IPython.display.Markdown(response)"
      ],
      "metadata": {
        "colab": {
          "base_uri": "https://localhost:8080/",
          "height": 178
        },
        "outputId": "12a9f26c-6497-4985-d379-b461e8fa27b9",
        "id": "QLqR85zIKSIS"
      },
      "execution_count": null,
      "outputs": [
        {
          "output_type": "execute_result",
          "data": {
            "text/plain": [
              "<IPython.core.display.Markdown object>"
            ],
            "text/markdown": "Okay, here are a few alternative ways to ask the question \"How to reduce power consumption of a laptop?\":\n\n1.  **What are the best practices for extending my laptop's battery life?** (This focuses on the outcome)\n2.  **How can I optimize my laptop's power settings for longer usage between charges?** (This is more specific about the settings to adjust)\n3.  **What are some hardware and software tweaks I can make to make my laptop more energy-efficient?** (This covers a wider range of potential solutions)\n4.  **What are the major power-draining components of a laptop, and how can I minimize their usage?** (This goes into the specifics of what uses the most power.)\n\nWould you like me to answer one of these alternative questions instead?\n"
          },
          "metadata": {},
          "execution_count": 6
        }
      ]
    },
    {
      "cell_type": "markdown",
      "source": [
        "**Audience persona pattern**"
      ],
      "metadata": {
        "id": "FzJcdvkyYqdW"
      }
    },
    {
      "cell_type": "code",
      "source": [
        "# Set behaviour\n",
        "prompt = \"\"\"Explain gravity to me.\n",
        "Assume that I am a novice in scientific things\n",
        "\"\"\"\n",
        "\n",
        "response = Generate_Content(prompt)\n",
        "IPython.display.Markdown(response)"
      ],
      "metadata": {
        "colab": {
          "base_uri": "https://localhost:8080/"
        },
        "outputId": "f2a77e0f-bac3-496a-c467-b475c7e37ea8",
        "id": "D-Q36ysnYqdd"
      },
      "execution_count": null,
      "outputs": [
        {
          "output_type": "execute_result",
          "data": {
            "text/plain": [
              "<IPython.core.display.Markdown object>"
            ],
            "text/markdown": "**What is Gravity?**\n\nGravity is an invisible force that pulls all objects towards each other. The more mass an object has, the stronger its gravitational pull. Even you have a gravitational pull, though it's very small.\n\n**How Does Gravity Work?**\n\nScientists don't fully understand how gravity works, but they have a theory called General Relativity. According to this theory, gravity is caused by the way objects bend the fabric of space and time.\n\nImagine a bowling ball placed on a trampoline. The weight of the ball causes the trampoline to bend and curve. If you roll a smaller ball near the bowling ball, it will curve towards it because the trampoline is bent in that direction. This is a simplified example of how gravity works.\n\n**Examples of Gravity**\n\n* **You stay on the ground:** Earth's gravity pulls you down, preventing you from floating away into space.\n* **A book falls when you drop it:** Earth's gravity pulls the book towards its center, making it fall.\n* **The Moon orbits Earth:** Earth's gravity pulls the Moon towards it, keeping it in orbit.\n* **Planets orbit the Sun:** The Sun's gravity pulls the planets towards it, keeping them in orbit.\n* **Black holes:** Black holes have such strong gravity that nothing, not even light, can escape them.\n\n**Key Points**\n\n* Gravity is a universal force that affects all objects.\n* The more mass an object has, the stronger its gravitational pull.\n* Gravity causes objects to bend the fabric of space and time.\n* Gravity is responsible for holding us on the ground, the planets in orbit, and the galaxies together."
          },
          "metadata": {},
          "execution_count": 27
        }
      ]
    },
    {
      "cell_type": "markdown",
      "source": [
        "**Cognitive Verifier pattern**"
      ],
      "metadata": {
        "id": "9di251FOZRdN"
      }
    },
    {
      "cell_type": "code",
      "source": [
        "# Set behaviour\n",
        "\n",
        "prompt = \"\"\"When you are asked a question, follow these rules\n",
        "Generate 3 additional questions that would help more accurately answer the question\n",
        "\n",
        "What crop is ideal to be sown?\n",
        "\"\"\"\n",
        "response = Generate_Content(prompt)\n",
        "IPython.display.Markdown(response)"
      ],
      "metadata": {
        "colab": {
          "base_uri": "https://localhost:8080/"
        },
        "outputId": "10fad4b4-7f1c-459b-bf91-269a7b185333",
        "id": "Xvo8F5MgZRdU"
      },
      "execution_count": null,
      "outputs": [
        {
          "output_type": "execute_result",
          "data": {
            "text/plain": [
              "<IPython.core.display.Markdown object>"
            ],
            "text/markdown": "1. What is the soil type and condition in the area where the crop will be sown?\n2. What is the climate of the area where the crop will be sown (temperature, rainfall, humidity)?\n3. What are the specific requirements of the crop in terms of sunlight, water, and nutrients?"
          },
          "metadata": {},
          "execution_count": 28
        }
      ]
    },
    {
      "cell_type": "code",
      "source": [
        "\n",
        "prompt = \"\"\"\n",
        "1. Climate is arid\n",
        "2. Soil type is black cotton\n",
        "3. Market demand is high\n",
        "\n",
        "What crop is ideal to be sown?\n",
        "\"\"\"\n",
        "# Combine the answers to the individual questions to produce the final answer to the overall question\n",
        "response = Generate_Content(prompt)\n",
        "IPython.display.Markdown(response)"
      ],
      "metadata": {
        "colab": {
          "base_uri": "https://localhost:8080/"
        },
        "id": "DB5gMtfWd9bf",
        "outputId": "144d24e8-1513-417d-dd14-202e957768f8"
      },
      "execution_count": null,
      "outputs": [
        {
          "output_type": "execute_result",
          "data": {
            "text/plain": [
              "<IPython.core.display.Markdown object>"
            ],
            "text/markdown": "Cotton"
          },
          "metadata": {},
          "execution_count": 29
        }
      ]
    },
    {
      "cell_type": "markdown",
      "source": [
        "**Flipped Interaction pattern**"
      ],
      "metadata": {
        "id": "QPhJIusHdzlG"
      }
    },
    {
      "cell_type": "code",
      "source": [
        "# Set behaviour\n",
        "\n",
        "prompt = \"\"\"Ask me 3 questions about fitness goals so that you have enough\n",
        "information to suggest a strength training regime for me.\n",
        "\"\"\"\n",
        "response = Generate_Content(prompt)\n",
        "IPython.display.Markdown(response)"
      ],
      "metadata": {
        "colab": {
          "base_uri": "https://localhost:8080/"
        },
        "outputId": "b33922d3-89ae-4937-b28e-84918101ea24",
        "id": "tA4HPEHhdzlM"
      },
      "execution_count": null,
      "outputs": [
        {
          "output_type": "execute_result",
          "data": {
            "text/plain": [
              "<IPython.core.display.Markdown object>"
            ],
            "text/markdown": "1. What are your specific fitness goals (e.g., build muscle, improve endurance, lose weight)?\n2. What is your current fitness level and how often do you exercise?\n3. Do you have any limitations or injuries that could impact your strength training?"
          },
          "metadata": {},
          "execution_count": 30
        }
      ]
    },
    {
      "cell_type": "code",
      "source": [
        "prompt = \"\"\"\n",
        "1. Strength\n",
        "2. Twice a week\n",
        "3. Muscles\n",
        "\n",
        "Show me the strength traing regime\n",
        "\"\"\"\n",
        "response = Generate_Content(prompt)\n",
        "IPython.display.Markdown(response)"
      ],
      "metadata": {
        "colab": {
          "base_uri": "https://localhost:8080/"
        },
        "id": "motC5ipUfpk8",
        "outputId": "0b3b9ea1-16f9-40a4-bc82-a1547d3907b6"
      },
      "execution_count": null,
      "outputs": [
        {
          "output_type": "execute_result",
          "data": {
            "text/plain": [
              "<IPython.core.display.Markdown object>"
            ],
            "text/markdown": "**Strength Training Regime**\n\n**Frequency:**\n* Twice a week\n\n**Exercises:**\n\n**Upper Body:**\n\n* Bench press\n* Overhead press\n* Dumbbell flyes\n* Triceps pushdowns\n* Bicep curls\n\n**Lower Body:**\n\n* Squats\n* Deadlifts\n* Lunges\n* Hamstring curls\n* Calf raises\n\n**Warm-up (5 minutes):**\n\n* Dynamic stretching (arm circles, leg swings)\n* Light cardio (jogging in place)\n\n**Exercises (3-4 sets of 8-12 repetitions per exercise):**\n\n* Focus on compound exercises that work multiple muscle groups simultaneously.\n* Choose weights that challenge you while maintaining good form.\n* Rest for 60-90 seconds between sets.\n\n**Cool-down (5 minutes):**\n\n* Static stretching (hold each stretch for 20-30 seconds)\n* Foam rolling (optional, but recommended to improve recovery)\n\n**Progression:**\n\n* Gradually increase weight or resistance as you get stronger.\n* Aim for 1-2% increase in weight per workout.\n* If you cannot complete the desired repetitions with good form, reduce the weight slightly.\n\n**Frequency:**\n\n* Begin with training twice a week and gradually increase frequency as your body adapts.\n* Rest at least 48 hours between workouts for each muscle group.\n\n**Considerations:**\n\n* Proper form is essential to prevent injury. Seek guidance from a qualified instructor if needed.\n* Listen to your body and rest when necessary.\n* Nutrition and hydration are crucial for optimal recovery.\n* Consistency is key for achieving desired results."
          },
          "metadata": {},
          "execution_count": 31
        }
      ]
    },
    {
      "cell_type": "markdown",
      "source": [
        "**Recipe pattern**"
      ],
      "metadata": {
        "id": "LQJzlHsug28m"
      }
    },
    {
      "cell_type": "code",
      "source": [
        "# Set behaviour\n",
        "prompt = \"\"\"I would like to  purchase a house. I know that I need to perform\n",
        "steps make an offer and close on the house. Provide a complete sequence of\n",
        "steps for me. Fill in any missing steps.\n",
        "\"\"\"\n",
        "response = Generate_Content(prompt)\n",
        "IPython.display.Markdown(response)"
      ],
      "metadata": {
        "colab": {
          "base_uri": "https://localhost:8080/",
          "height": 1000
        },
        "outputId": "54db31ac-e75b-42db-99ba-bcf932f80350",
        "id": "tggLAAXOg28t"
      },
      "execution_count": null,
      "outputs": [
        {
          "output_type": "execute_result",
          "data": {
            "text/plain": [
              "<IPython.core.display.Markdown object>"
            ],
            "text/markdown": "Okay, here's a comprehensive sequence of steps to guide you through the home-buying process, from initial planning to closing:\n\n**Phase 1: Planning & Preparation**\n\n1.  **Assess Your Finances:**\n    *   **Determine Your Budget:**\n        *   Calculate your debt-to-income ratio (DTI).\n        *   Review your income, expenses, and savings.\n        *   Consider property taxes, insurance, and potential HOA fees.\n    *   **Get Pre-Approved for a Mortgage:**\n        *   Contact a lender (bank, credit union, mortgage broker) to get pre-approved.\n        *   This determines how much you can borrow and gives you negotiating power.\n        *   Gather necessary financial documents (pay stubs, tax returns, bank statements).\n        *   **Important:** Get multiple pre-approvals to compare interest rates and terms.\n    *   **Estimate Down Payment and Closing Costs:**\n        *   Determine the amount of your down payment.\n        *   Research and estimate closing costs (origination fees, appraisal, title insurance, etc.).\n    *   **Check Your Credit Report & Score:**\n        *   Obtain your credit reports from the three major credit bureaus (Experian, Equifax, TransUnion) at annualcreditreport.com.\n        *   Correct any errors.\n        *   Improve your credit score if needed (pay down debt, avoid late payments).\n    *   **Set a Financial Goal:**\n        *   Decide on your home price range.\n\n2.  **Define Your Needs and Wants:**\n    *   **Identify Your Must-Haves:**\n        *   Number of bedrooms and bathrooms.\n        *   Location (specific neighborhoods, school districts, commute considerations).\n        *   Lot size/yard.\n        *   Any essential features (e.g., garage, specific type of kitchen).\n    *   **List Your Desirable Features (Wants):**\n        *   Things that would enhance your lifestyle but aren't essential (e.g., a swimming pool, a home office).\n\n3.  **Choose a Real Estate Agent (Buyer's Agent):**\n    *   **Research and Interview Agents:**\n        *   Ask for referrals from friends, family, and colleagues.\n        *   Check online reviews and testimonials.\n        *   Interview several agents to find someone experienced, knowledgeable about your target areas, and a good communicator.\n    *   **Sign a Buyer's Agency Agreement:**\n        *   This agreement establishes the agent's role in representing your interests.\n\n4.  **Research and Learn About the Housing Market:**\n    *   **Track Market Trends:**\n        *   Monitor local real estate market data (average home prices, days on market, inventory levels) in the areas you're interested in.\n        *   Understand whether it's a buyer's market, seller's market, or balanced market.\n    *   **Understand Property Values:**\n        *   Review recent sales of comparable properties (comps) in your target areas.\n    *   **Learn About Neighborhoods:**\n        *   Research the neighborhoods you are considering:\n            *   Schools, crime rates, amenities (parks, shopping, restaurants), future development plans.\n\n**Phase 2: House Hunting & Making an Offer**\n\n5.  **Start Viewing Properties:**\n    *   **Work with Your Agent:**\n        *   Your agent will help you find properties that meet your criteria and schedule showings.\n    *   **Attend Open Houses:**\n        *   This is a great way to view properties at your own pace.\n    *   **Take Detailed Notes:**\n        *   Note the pros and cons of each property, take pictures or videos.\n        *   Rate the properties based on your needs and wants.\n\n6.  **Narrow Down Your Choices:**\n    *   **Compare Properties:**\n        *   Evaluate the properties based on your priorities.\n    *   **Revisit Properties (if necessary):**\n        *   Take another look at the top contenders.\n\n7.  **Make an Offer:**\n    *   **Work with Your Agent:**\n        *   Your agent will help you prepare a written offer.\n    *   **Determine the Offer Price:**\n        *   Consider the listing price, recent comps, market conditions, and the condition of the property.\n        *   Your agent will help you determine a fair offer price.\n    *   **Include Contingencies:**\n        *   Contingencies are conditions that must be met for the sale to proceed. Common contingencies include:\n            *   **Financing Contingency:** Protects you if you can't secure a mortgage.\n            *   **Home Inspection Contingency:** Allows you to have the property inspected and negotiate repairs or back out of the deal if problems are found.\n            *   **Appraisal Contingency:** Protects you if the property doesn't appraise for the purchase price.\n            *   **Title Contingency:** Protects you from any issues with the property's title.\n    *   **Include Earnest Money:**\n        *   A good faith deposit to show you're serious. This is typically held in escrow.\n    *   **Set a Deadline:**\n        *   Give the seller a reasonable time to respond to your offer.\n    *   **Submit Your Offer:**\n        *   Your agent will present the offer to the seller's agent.\n\n8.  **Negotiate (If Necessary):**\n    *   **Counteroffers:**\n        *   The seller may accept, reject, or counter your offer.\n        *   You can negotiate on price, contingencies, closing date, and other terms.\n    *   **Work with Your Agent:**\n        *   Your agent will help you navigate the negotiation process.\n\n9.  **Reach a Final Agreement:**\n    *   **Sign the Purchase Agreement:**\n        *   Once both parties agree on the terms, sign the purchase agreement.\n        *   This is a legally binding contract.\n\n**Phase 3: Due Diligence & Closing**\n\n10. **Complete the Mortgage Process:**\n    *   **Submit Loan Application:**\n        *   Provide all required documentation to your lender.\n    *   **Loan Underwriting:**\n        *   The lender will review your financial information and the property appraisal to approve your loan.\n    *   **Lock in Your Interest Rate:**\n        *   Secure your interest rate for a set period.\n\n11. **Home Inspection:**\n    *   **Hire a Qualified Home Inspector:**\n        *   Your agent can provide recommendations.\n    *   **Attend the Inspection (Recommended):**\n        *   This is a good opportunity to learn about the property's condition.\n    *   **Review the Inspection Report:**\n        *   Identify any issues that need to be addressed.\n    *   **Negotiate Repairs or Credits (If Needed):**\n        *   Use the inspection report to negotiate with the seller.\n\n12. **Appraisal:**\n    *   **The Lender Orders an Appraisal:**\n        *   An appraiser will assess the property's value.\n    *   **Review the Appraisal Report:**\n        *   Ensure the property appraised at or above the purchase price.\n        *   If it appraises for less, you may need to renegotiate the price or make up the difference.\n\n13. **Title Search and Title Insurance:**\n    *   **Title Company Performs a Title Search:**\n        *   To ensure the seller has clear ownership of the property.\n    *   **Title Insurance:**\n        *   Protects you and your lender from any claims against the property's title.\n\n14. **Final Walk-Through:**\n    *   **Before Closing:**\n        *   Inspect the property to ensure it's in the agreed-upon condition and that any agreed-upon repairs have been completed.\n\n15. **Obtain Homeowners Insurance:**\n    *   **Secure Insurance Coverage:**\n        *   Get a homeowner's insurance policy to protect your property from covered perils.\n        *   Provide proof of insurance to your lender.\n\n16. **Closing:**\n    *   **Review Closing Disclosure:**\n        *   Your lender will provide a Closing Disclosure outlining the final loan terms, closing costs, and cash to close.\n    *   **Sign Closing Documents:**\n        *   Attend the closing (usually with your agent, the seller, their agent, and a representative from the title company).\n        *   Sign all the necessary documents.\n    *   **Provide Funds:**\n        *   Bring the required funds (down payment, closing costs) to closing.\n    *   **Record the Deed:**\n        *   The title company will record the deed with the county, officially transferring ownership to you.\n\n17. **Receive the Keys and Move In!**\n    *   Congratulations! You are now a homeowner.\n\n**Important Notes:**\n\n*   **Work with Professionals:** Throughout the process, rely on the expertise of your real estate agent, lender, attorney (if applicable), home inspector, and other professionals.\n*   **Stay Organized:** Keep track of all documents, deadlines, and communications.\n*   **Be Patient:** The home-buying process can be lengthy and complex.\n*   **Read everything carefully:** Don't sign any documents without fully understanding the terms.\n*   **Communicate:** Maintain open communication with all parties involved (your agent, lender, seller, etc.).\n*   **Ask Questions:** Don't hesitate to ask questions if you're unsure about anything.\n*   **Local Laws and Practices:** Real estate laws and practices vary by state and even by local area. Be sure to follow the guidelines and laws of your area.\n\nThis is a general outline. The specific steps and timeline may vary depending on your location, the type of property, and the terms of the sale. Good luck with your home-buying journey!\n"
          },
          "metadata": {},
          "execution_count": 10
        }
      ]
    },
    {
      "cell_type": "markdown",
      "source": [
        "**Alternative approaches pattern**"
      ],
      "metadata": {
        "id": "sNGFsVvuhN98"
      }
    },
    {
      "cell_type": "code",
      "source": [
        "# Set behaviour\n",
        "\n",
        "prompt = \"\"\"For anything that I ask you, determine the underlying\n",
        "problem that I am trying to solve and how I am trying to solve it. List at least\n",
        "one alternative approach to solve the problem and compare / contrast the approach\n",
        "with the original approach implied by my request to you.\n",
        "\n",
        "How can I make my internet work faster?\n",
        "\"\"\"\n",
        "response = Generate_Content(prompt)\n",
        "IPython.display.Markdown(response)"
      ],
      "metadata": {
        "colab": {
          "base_uri": "https://localhost:8080/",
          "height": 198
        },
        "outputId": "52b8d3a0-1dce-4b85-957b-3b3e379602af",
        "id": "Cvfg0WKXhN-J"
      },
      "execution_count": null,
      "outputs": [
        {
          "output_type": "execute_result",
          "data": {
            "text/plain": [
              "<IPython.core.display.Markdown object>"
            ],
            "text/markdown": "**Underlying Problem**: Slow internet speed\n\n**Original Approach**: Querying for tips to improve internet speed\n\n**Alternative Approach**:\n\n* **Contact your internet service provider (ISP)**: Determine if there are any issues or service outages in your area that are causing the slow internet. Discuss options to upgrade your plan or troubleshoot hardware issues.\n\n**Comparison**:\n\n* **Original Approach**: Can provide generic tips and tricks that may not address the specific cause of the slow internet.\n* **Alternative Approach**: More direct and specific, offers personalized solutions based on your ISP's assessment and allows for potential upgrades."
          },
          "metadata": {},
          "execution_count": 9
        }
      ]
    },
    {
      "cell_type": "markdown",
      "source": [
        "**Outline expansion pattern**"
      ],
      "metadata": {
        "id": "YaVqyno-iWwm"
      }
    },
    {
      "cell_type": "code",
      "source": [
        "# Set behaviour\n",
        "\n",
        "prompt = \"\"\"Act as an outline expander.\n",
        "Generate a bullet point outline based on the input that I give you and\n",
        "then ask me for which bullet point you should expand on.\n",
        "\n",
        "Type of mammals\n",
        "\"\"\"\n",
        "response = Generate_Content(prompt)\n",
        "IPython.display.Markdown(response)"
      ],
      "metadata": {
        "colab": {
          "base_uri": "https://localhost:8080/"
        },
        "outputId": "abb8ea3e-17c3-4628-8ea8-016bfd3d6f08",
        "id": "uf-6o8Q3iWw0"
      },
      "execution_count": null,
      "outputs": [
        {
          "output_type": "execute_result",
          "data": {
            "text/plain": [
              "<IPython.core.display.Markdown object>"
            ],
            "text/markdown": "**Outline**\n\n* **Characteristics of mammals**\n    * Warm-blooded\n    * Have fur or hair\n    * Give birth to live young\n    * Nurse their young with milk\n* **Types of mammals**\n    * Monotremes\n    * Marsupials\n    * Placentals\n* **Examples of mammals**\n    * Dogs\n    * Cats\n    * Elephants\n    * Whales\n\n**Which bullet point would you like me to expand on?**"
          },
          "metadata": {},
          "execution_count": 33
        }
      ]
    },
    {
      "cell_type": "code",
      "source": [
        "prompt = \"\"\"\n",
        "Marine mammals\n",
        "\n",
        "Create a new bullet point outline for the above selection.\n",
        "After I select one of them, explain it\n",
        "\"\"\"\n",
        "response = Generate_Content(prompt)\n",
        "IPython.display.Markdown(response)"
      ],
      "metadata": {
        "colab": {
          "base_uri": "https://localhost:8080/"
        },
        "id": "FVqyHpXFjIcc",
        "outputId": "b7b5f86c-cc49-49a0-82ae-6c8107a2c0e0"
      },
      "execution_count": null,
      "outputs": [
        {
          "output_type": "execute_result",
          "data": {
            "text/plain": [
              "<IPython.core.display.Markdown object>"
            ],
            "text/markdown": "**Bullet Point Outline:**\n\n* **Characteristics of Marine Mammals**\n* **Classification of Marine Mammals**\n* **Behavior and Ecology**\n* **Threats and Conservation**\n* **Importance to Humans**\n\n**Explanation of \"Classification of Marine Mammals\":**\n\nThis bullet point covers the different taxonomic groups of marine mammals, which are categorized based on their evolutionary relationships and shared characteristics. The primary groups include:\n\n* **Cetaceans:** Whales, dolphins, and porpoises, characterized by their streamlined bodies, tail flukes, and lack of hind limbs.\n* **Pinnipeds:** Seals, sea lions, and walruses, which have flippers for swimming and use their hind limbs for locomotion on land.\n* **Sirenians:** Manatees and dugongs, large, herbivorous mammals with paddle-like tails and reduced hind limbs.\n* **Carnivorans:** Otters and sea otters, which are marine-adapted members of the carnivoran order.\n* **Afrotheres:** Elephants (specifically African elephants) are the only extant afrotheres in the marine environment, spending significant time in the ocean."
          },
          "metadata": {},
          "execution_count": 34
        }
      ]
    },
    {
      "cell_type": "code",
      "source": [
        "prompt = \"\"\"\n",
        "Dolphins\n",
        "\"\"\"\n",
        "response = Generate_Content(prompt)\n",
        "IPython.display.Markdown(response)"
      ],
      "metadata": {
        "colab": {
          "base_uri": "https://localhost:8080/"
        },
        "id": "8BbjiFKukvdS",
        "outputId": "6e1a7e14-659c-42e6-80cd-b088603bc51e"
      },
      "execution_count": null,
      "outputs": [
        {
          "output_type": "execute_result",
          "data": {
            "text/plain": [
              "<IPython.core.display.Markdown object>"
            ],
            "text/markdown": "* **Scientific name:** Delphinus\n* **Lifespan:** 40-50 years\n* **Size:** 6-8 feet long, 200-300 pounds\n* **Diet:** Fish, squid, crustaceans\n* **Habitat:** Oceans and estuaries worldwide\n* **Social structure:** Pods of 10-100 individuals\n* **Communication:** Clicks, whistles, and body language\n* **Intelligence:** Dolphins are highly intelligent animals with complex social and cognitive abilities.\n* **Conservation status:** Some species of dolphins are threatened by habitat loss, overfishing, and pollution."
          },
          "metadata": {},
          "execution_count": 35
        }
      ]
    },
    {
      "cell_type": "markdown",
      "source": [
        "**Semantic filter pattern**"
      ],
      "metadata": {
        "id": "8tdAqUEklR7P"
      }
    },
    {
      "cell_type": "code",
      "source": [
        "# Set behaviour\n",
        "txt=\"\"\"\n",
        "Mr. Alex went to paris last Friday..\n",
        "\"\"\"\n",
        "\n",
        "prompt = f\"\"\"\n",
        "Filter out all personally identifiable information in the text contained in\n",
        "'''{txt}''' and put ### in its place and output the content\n",
        "\"\"\"\n",
        "response = Generate_Content(prompt)\n",
        "IPython.display.Markdown(response)"
      ],
      "metadata": {
        "colab": {
          "base_uri": "https://localhost:8080/"
        },
        "outputId": "95ecf6f9-b588-4058-cd34-0f39079c2d39",
        "id": "tHfPzlHelR7W"
      },
      "execution_count": null,
      "outputs": [
        {
          "output_type": "execute_result",
          "data": {
            "text/plain": [
              "<IPython.core.display.Markdown object>"
            ],
            "text/markdown": "Mr. ### went to paris last Friday.."
          },
          "metadata": {},
          "execution_count": 40
        }
      ]
    },
    {
      "cell_type": "markdown",
      "source": [
        "### Gen AI - Foundational concepts"
      ],
      "metadata": {
        "id": "57UNdRlJFLd9"
      }
    },
    {
      "cell_type": "markdown",
      "source": [
        "**VAE**\n",
        "\n",
        "https://keras.io/examples/generative/vae/\n",
        "\n",
        "**GANs**\n",
        "\n",
        "https://huggingface.co/learn/computer-vision-course/en/unit5/generative-models/gans\n",
        "\n",
        "**Transformers**\n",
        "\n",
        "https://www.geeksforgeeks.org/nlp/types-of-attention-mechanism/\n",
        "\n",
        "\n",
        "https://www.geeksforgeeks.org/machine-learning/getting-started-with-transformers/\n",
        "\n",
        "\n",
        "**Huggingface**\n",
        "\n",
        "https://huggingface.co/learn/llm-course/en/chapter1/3\n",
        "\n",
        "\n",
        "**BERT**\n",
        "\n",
        "https://www.geeksforgeeks.org/nlp/explanation-of-bert-model-nlp/\n",
        "\n",
        "\n",
        "https://huggingface.co/docs/transformers/en/model_doc/bert\n"
      ],
      "metadata": {
        "id": "SVHcCFTki3JT"
      }
    },
    {
      "cell_type": "markdown",
      "source": [
        "**Example for Transformers**"
      ],
      "metadata": {
        "id": "laZ11plyZA6I"
      }
    },
    {
      "cell_type": "code",
      "source": [
        "!pip install transformers\n",
        "from transformers import pipeline\n",
        "\n",
        "# 1. Load a pre-trained sentiment analysis pipeline\n",
        "# This pipeline uses a Transformer model fine-tuned for sentiment analysis.\n",
        "classifier = pipeline(\"sentiment-analysis\")\n",
        "\n",
        "# 2. Provide text input\n",
        "text1 = \"I love using the Hugging Face Transformers library!\"\n",
        "text2 = \"This movie was incredibly boring and a waste of time.\"\n",
        "\n",
        "# 3. Perform sentiment analysis\n",
        "result1 = classifier(text1)\n",
        "result2 = classifier(text2)\n",
        "\n",
        "# 4. Print the results\n",
        "print(f\"Text 1: '{text1}'\")\n",
        "print(f\"Sentiment: {result1[0]['label']}, Score: {result1[0]['score']:.4f}\\n\")\n",
        "\n",
        "print(f\"Text 2: '{text2}'\")\n",
        "print(f\"Sentiment: {result2[0]['label']}, Score: {result2[0]['score']:.4f}\")"
      ],
      "metadata": {
        "colab": {
          "base_uri": "https://localhost:8080/",
          "height": 742,
          "referenced_widgets": [
            "25a1a30601ec4457a3dd13da518f12c1",
            "16d3bcb6748f43cb80cf80580038932a",
            "c1357d32134b4ffd965c1e897f16df03",
            "7528916d1fc240e7959ce452de8d9af0",
            "504544ce71a54723b117ad3ea66ee299",
            "a8fe23e70ec8488bafc5872345225861",
            "ed2eb09422bc4335b1e2051f3c95c596",
            "a3473e6392d5467fb8c7d2b79ed62521",
            "274d9cb7983047018c7f08b3474200e1",
            "11db972d78a64139b8d6d59900e0bee1",
            "3f74fdab66014d82a0435ace688cbbfa",
            "160f70327a424ceb8f19a8667e4cbe5e",
            "23ea211fd6d5492aa2b228f9d2f01c74",
            "8ea0b54fab48401a9e206606039fa2ef",
            "8db00c30bc0a45c5b91934b49f6577fe",
            "bb919c1708474c5a87b583ffafd43c5a",
            "d0beeb81935d47bbbd4f5f5fd5a9029c",
            "3d7f2664842e4d2da341562d6de9283b",
            "cb351f2d3d1e427288a6d69eb89681a3",
            "250b9d0de47043ee847a82a3cb9cdd5e",
            "e6cba4ae0a8a451d995e6cad8776946d",
            "5d766382ca884f9b9bb53644fa73d258",
            "6b154f95d4ed4599892f26da5eb5cfda",
            "011194c8a70e4be9afcd8f9d7d5c221e",
            "c8b042bf02be412cb1363671b715d8d6",
            "ded52d01d8bd4a289df0bbc4bd95e574",
            "2ff6617e06594d15956609ab70205f27",
            "52ffdf17944e4de6a9f0da0afc70c501",
            "ec3a21b36fd04225b0a792836e4940ca",
            "cc18e0557ba049bb8e5cc28b6add45ae",
            "b22fbe72c4134ab2a69dfb5c996e7b27",
            "6d7b61501f5542fdb5f8b985d175c87f",
            "d269ab91aa7e4066985ee05493eb8ae9",
            "87aabbb21c1a4031841e5dce48c1cc6f",
            "9871624970314597a048b5aafae531c2",
            "56c4bd567f864f9daa9829767b109039",
            "04291c5b9ca04c8cb4024b11acf1c006",
            "983d1ca6294e4de9bcf57c284fecb148",
            "c52ed6847c594975a3988334e906c00b",
            "b72e8a94596541389993fdbb3fad144b",
            "72e4c00c212d44189d873e5d0e862656",
            "1dc8cdb824ba422e9006f834f86e1fc5",
            "ce9b8ddf5bce4017ae46bca9bd8a73aa",
            "d710d7a1f3664b5686a696e16616dc52"
          ]
        },
        "id": "l6e91_owIEBc",
        "outputId": "7acb3a64-839c-41b6-c3b1-d751829f7ac4"
      },
      "execution_count": null,
      "outputs": [
        {
          "output_type": "stream",
          "name": "stdout",
          "text": [
            "Requirement already satisfied: transformers in /usr/local/lib/python3.12/dist-packages (4.57.1)\n",
            "Requirement already satisfied: filelock in /usr/local/lib/python3.12/dist-packages (from transformers) (3.20.0)\n",
            "Requirement already satisfied: huggingface-hub<1.0,>=0.34.0 in /usr/local/lib/python3.12/dist-packages (from transformers) (0.35.3)\n",
            "Requirement already satisfied: numpy>=1.17 in /usr/local/lib/python3.12/dist-packages (from transformers) (2.0.2)\n",
            "Requirement already satisfied: packaging>=20.0 in /usr/local/lib/python3.12/dist-packages (from transformers) (25.0)\n",
            "Requirement already satisfied: pyyaml>=5.1 in /usr/local/lib/python3.12/dist-packages (from transformers) (6.0.3)\n",
            "Requirement already satisfied: regex!=2019.12.17 in /usr/local/lib/python3.12/dist-packages (from transformers) (2024.11.6)\n",
            "Requirement already satisfied: requests in /usr/local/lib/python3.12/dist-packages (from transformers) (2.32.4)\n",
            "Requirement already satisfied: tokenizers<=0.23.0,>=0.22.0 in /usr/local/lib/python3.12/dist-packages (from transformers) (0.22.1)\n",
            "Requirement already satisfied: safetensors>=0.4.3 in /usr/local/lib/python3.12/dist-packages (from transformers) (0.6.2)\n",
            "Requirement already satisfied: tqdm>=4.27 in /usr/local/lib/python3.12/dist-packages (from transformers) (4.67.1)\n",
            "Requirement already satisfied: fsspec>=2023.5.0 in /usr/local/lib/python3.12/dist-packages (from huggingface-hub<1.0,>=0.34.0->transformers) (2025.3.0)\n",
            "Requirement already satisfied: typing-extensions>=3.7.4.3 in /usr/local/lib/python3.12/dist-packages (from huggingface-hub<1.0,>=0.34.0->transformers) (4.15.0)\n",
            "Requirement already satisfied: hf-xet<2.0.0,>=1.1.3 in /usr/local/lib/python3.12/dist-packages (from huggingface-hub<1.0,>=0.34.0->transformers) (1.1.10)\n",
            "Requirement already satisfied: charset_normalizer<4,>=2 in /usr/local/lib/python3.12/dist-packages (from requests->transformers) (3.4.4)\n",
            "Requirement already satisfied: idna<4,>=2.5 in /usr/local/lib/python3.12/dist-packages (from requests->transformers) (3.11)\n",
            "Requirement already satisfied: urllib3<3,>=1.21.1 in /usr/local/lib/python3.12/dist-packages (from requests->transformers) (2.5.0)\n",
            "Requirement already satisfied: certifi>=2017.4.17 in /usr/local/lib/python3.12/dist-packages (from requests->transformers) (2025.10.5)\n"
          ]
        },
        {
          "output_type": "stream",
          "name": "stderr",
          "text": [
            "No model was supplied, defaulted to distilbert/distilbert-base-uncased-finetuned-sst-2-english and revision 714eb0f (https://huggingface.co/distilbert/distilbert-base-uncased-finetuned-sst-2-english).\n",
            "Using a pipeline without specifying a model name and revision in production is not recommended.\n",
            "/usr/local/lib/python3.12/dist-packages/huggingface_hub/utils/_auth.py:94: UserWarning: \n",
            "The secret `HF_TOKEN` does not exist in your Colab secrets.\n",
            "To authenticate with the Hugging Face Hub, create a token in your settings tab (https://huggingface.co/settings/tokens), set it as secret in your Google Colab and restart your session.\n",
            "You will be able to reuse this secret in all of your notebooks.\n",
            "Please note that authentication is recommended but still optional to access public models or datasets.\n",
            "  warnings.warn(\n"
          ]
        },
        {
          "output_type": "display_data",
          "data": {
            "text/plain": [
              "config.json:   0%|          | 0.00/629 [00:00<?, ?B/s]"
            ],
            "application/vnd.jupyter.widget-view+json": {
              "version_major": 2,
              "version_minor": 0,
              "model_id": "25a1a30601ec4457a3dd13da518f12c1"
            }
          },
          "metadata": {}
        },
        {
          "output_type": "display_data",
          "data": {
            "text/plain": [
              "model.safetensors:   0%|          | 0.00/268M [00:00<?, ?B/s]"
            ],
            "application/vnd.jupyter.widget-view+json": {
              "version_major": 2,
              "version_minor": 0,
              "model_id": "160f70327a424ceb8f19a8667e4cbe5e"
            }
          },
          "metadata": {}
        },
        {
          "output_type": "display_data",
          "data": {
            "text/plain": [
              "tokenizer_config.json:   0%|          | 0.00/48.0 [00:00<?, ?B/s]"
            ],
            "application/vnd.jupyter.widget-view+json": {
              "version_major": 2,
              "version_minor": 0,
              "model_id": "6b154f95d4ed4599892f26da5eb5cfda"
            }
          },
          "metadata": {}
        },
        {
          "output_type": "display_data",
          "data": {
            "text/plain": [
              "vocab.txt: 0.00B [00:00, ?B/s]"
            ],
            "application/vnd.jupyter.widget-view+json": {
              "version_major": 2,
              "version_minor": 0,
              "model_id": "87aabbb21c1a4031841e5dce48c1cc6f"
            }
          },
          "metadata": {}
        },
        {
          "output_type": "stream",
          "name": "stderr",
          "text": [
            "Device set to use cuda:0\n"
          ]
        },
        {
          "output_type": "stream",
          "name": "stdout",
          "text": [
            "Text 1: 'I love using the Hugging Face Transformers library!'\n",
            "Sentiment: POSITIVE, Score: 0.9983\n",
            "\n",
            "Text 2: 'This movie was incredibly boring and a waste of time.'\n",
            "Sentiment: NEGATIVE, Score: 0.9998\n"
          ]
        }
      ]
    },
    {
      "cell_type": "markdown",
      "source": [
        "**Example for BERT**"
      ],
      "metadata": {
        "id": "kDSSWqg2ZHKB"
      }
    },
    {
      "cell_type": "code",
      "source": [
        "import torch\n",
        "from transformers import pipeline\n",
        "\n",
        "pipeline = pipeline(\n",
        "    task=\"fill-mask\",\n",
        "    model=\"google-bert/bert-base-uncased\",\n",
        "    dtype=torch.float16,\n",
        "    device=0\n",
        ")\n",
        "pipeline(\"Plants create [MASK] through a process known as photosynthesis.\")"
      ],
      "metadata": {
        "colab": {
          "base_uri": "https://localhost:8080/",
          "height": 630,
          "referenced_widgets": [
            "850e5d2ee6394928b6af357126cfe011",
            "1fa392bfe1504e7aa624a7ed31a7097a",
            "8d41a8b695fe413391113d7456240a51",
            "ceeebc9f7fad45eb88bcaee46f0f3bb2",
            "94f41a26791e4d3cbd83fcfed7445ef1",
            "70522af13cc045b69c1cc50057ee6c6e",
            "d1b1a4106d2245ccad44bfd58119a86a",
            "5ab8c0e77ead4c37a0490033059f2169",
            "0c02df366ca94667b180cde427d03122",
            "e49a26f065084c0aa2f37de509f7ce4b",
            "f0e47b384d854e66abf7445373a05568",
            "72acce21ef1949d4ac29f989d385d295",
            "7839ca6170224edf8ae61571e44e6bf8",
            "dbbc4005a6384d749d40be4c1f9c42ca",
            "ef0e6887860b4ce788da2cb28689cbfc",
            "f9d14458467e46428777a8ecb1a04836",
            "1a0d51bf764a4cae95b6e54ddeb0bd9d",
            "2564675e6e7f4c4fbf91b5c9d0f1c429",
            "ecffa64e83d34826aac5aeeec89db7fb",
            "d63f3a9125c74cc2ad7ff63cb6311de6",
            "770838ff6fe64c36bf95377ab026ba36",
            "3b166219b371419f8d5a34b80db6412d",
            "e05c3609530c4397a5d023b89ed528c4",
            "8bcfec2c54d4476ea96ae4e7fe5d1630",
            "07ac73915775411fa45f56c34c16681a",
            "6cf6f282912d424c8e23c1acaf452290",
            "31a91abd9d6649bdbd1a4be97f55985a",
            "6113ad0fe8ef4f109519913b0e2e3886",
            "df7ef56467e840c3bd6173f69c14f643",
            "0862fbbe754442e99805ee0f1c82e583",
            "9f7048c6a7f944d783ee03fbd0466b24",
            "f45c18c4b6334fd18be9cb78a5a7e643",
            "e589139bb7884b118419316287cbc052",
            "862432b6445f4abeb80fc946b4d9c254",
            "ca2a615551574bcb8568586ec280c02c",
            "45f42f0724ef434f8c7af652ca6e4ebe",
            "7ac2c63c48f04e79b4a71b5a8bd7ecdd",
            "c725c4b9165f47a28cae7eb0c2b23101",
            "1684b252c6c64a2abb68969083d06470",
            "d61738339aa54e199db52a1cab0b9ee9",
            "8217043b347440668133d876600d190b",
            "c0763907d28a4277b6a8d985bb2eeb2a",
            "6d78502287e0467bac2b95593aa69b4f",
            "b0d7cf1d0e724f798527ee55a39bd08e",
            "e41716e14dfe4dc08c080f21bb48b8ec",
            "68385a495f3c49cf8572be5ba65a797a",
            "f367534aa395440bb94b3ab29f09d663",
            "b95b0485a37a4978acc4df04bc5672ad",
            "f4c85ced6bf746d0b7163f7209aae29a",
            "7d247713d1ef406a86fe150d4606ccb1",
            "885cd71b0ff244919314bccfad50d5c2",
            "85c069e54806400ebfe7014270175b9a",
            "337ce10e5b704bb2a7279fb2e76106a9",
            "fd48b88342d24d9c8df972f90c24f565",
            "9d0c65a407194fe5956ce3afc925b849"
          ]
        },
        "id": "uB7RdRfTLzKR",
        "outputId": "11963cf9-9645-42eb-fd2e-6af16fe9c928"
      },
      "execution_count": null,
      "outputs": [
        {
          "output_type": "display_data",
          "data": {
            "text/plain": [
              "config.json:   0%|          | 0.00/570 [00:00<?, ?B/s]"
            ],
            "application/vnd.jupyter.widget-view+json": {
              "version_major": 2,
              "version_minor": 0,
              "model_id": "850e5d2ee6394928b6af357126cfe011"
            }
          },
          "metadata": {}
        },
        {
          "output_type": "display_data",
          "data": {
            "text/plain": [
              "model.safetensors:   0%|          | 0.00/440M [00:00<?, ?B/s]"
            ],
            "application/vnd.jupyter.widget-view+json": {
              "version_major": 2,
              "version_minor": 0,
              "model_id": "72acce21ef1949d4ac29f989d385d295"
            }
          },
          "metadata": {}
        },
        {
          "output_type": "stream",
          "name": "stderr",
          "text": [
            "Some weights of the model checkpoint at google-bert/bert-base-uncased were not used when initializing BertForMaskedLM: ['bert.pooler.dense.bias', 'bert.pooler.dense.weight', 'cls.seq_relationship.bias', 'cls.seq_relationship.weight']\n",
            "- This IS expected if you are initializing BertForMaskedLM from the checkpoint of a model trained on another task or with another architecture (e.g. initializing a BertForSequenceClassification model from a BertForPreTraining model).\n",
            "- This IS NOT expected if you are initializing BertForMaskedLM from the checkpoint of a model that you expect to be exactly identical (initializing a BertForSequenceClassification model from a BertForSequenceClassification model).\n"
          ]
        },
        {
          "output_type": "display_data",
          "data": {
            "text/plain": [
              "tokenizer_config.json:   0%|          | 0.00/48.0 [00:00<?, ?B/s]"
            ],
            "application/vnd.jupyter.widget-view+json": {
              "version_major": 2,
              "version_minor": 0,
              "model_id": "e05c3609530c4397a5d023b89ed528c4"
            }
          },
          "metadata": {}
        },
        {
          "output_type": "display_data",
          "data": {
            "text/plain": [
              "vocab.txt: 0.00B [00:00, ?B/s]"
            ],
            "application/vnd.jupyter.widget-view+json": {
              "version_major": 2,
              "version_minor": 0,
              "model_id": "862432b6445f4abeb80fc946b4d9c254"
            }
          },
          "metadata": {}
        },
        {
          "output_type": "display_data",
          "data": {
            "text/plain": [
              "tokenizer.json: 0.00B [00:00, ?B/s]"
            ],
            "application/vnd.jupyter.widget-view+json": {
              "version_major": 2,
              "version_minor": 0,
              "model_id": "e41716e14dfe4dc08c080f21bb48b8ec"
            }
          },
          "metadata": {}
        },
        {
          "output_type": "stream",
          "name": "stderr",
          "text": [
            "Device set to use cuda:0\n"
          ]
        },
        {
          "output_type": "execute_result",
          "data": {
            "text/plain": [
              "[{'score': 0.151123046875,\n",
              "  'token': 2943,\n",
              "  'token_str': 'energy',\n",
              "  'sequence': 'plants create energy through a process known as photosynthesis.'},\n",
              " {'score': 0.1453857421875,\n",
              "  'token': 4870,\n",
              "  'token_str': 'flowers',\n",
              "  'sequence': 'plants create flowers through a process known as photosynthesis.'},\n",
              " {'score': 0.0821533203125,\n",
              "  'token': 9325,\n",
              "  'token_str': 'sunlight',\n",
              "  'sequence': 'plants create sunlight through a process known as photosynthesis.'},\n",
              " {'score': 0.04296875,\n",
              "  'token': 18670,\n",
              "  'token_str': 'algae',\n",
              "  'sequence': 'plants create algae through a process known as photosynthesis.'},\n",
              " {'score': 0.037628173828125,\n",
              "  'token': 12649,\n",
              "  'token_str': 'atp',\n",
              "  'sequence': 'plants create atp through a process known as photosynthesis.'}]"
            ]
          },
          "metadata": {},
          "execution_count": 2
        }
      ]
    }
  ],
  "metadata": {
    "colab": {
      "provenance": [],
      "collapsed_sections": [
        "-knre_E_e9Dk",
        "rOJfggtrVr9V",
        "5ukrLfFRVjlm",
        "8vgTdqh__tSG",
        "5OHrBWqKZN66",
        "u_6TpN_o8M4W",
        "57UNdRlJFLd9"
      ]
    },
    "kernelspec": {
      "display_name": "Python 3",
      "name": "python3"
    },
    "language_info": {
      "name": "python"
    }
  },
  "nbformat": 4,
  "nbformat_minor": 0
}